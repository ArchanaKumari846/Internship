{
 "cells": [
  {
   "cell_type": "code",
   "execution_count": 1,
   "id": "b8bf143d",
   "metadata": {},
   "outputs": [
    {
     "name": "stdout",
     "output_type": "stream",
     "text": [
      "Enter a Number: 6\n",
      "Factorial of Number 6 is:  720\n"
     ]
    }
   ],
   "source": [
    "#Q.11.Ans- To find the factorial of a number\n",
    "\n",
    "Number=int(input(\"Enter a Number: \"))\n",
    "factorial=1\n",
    "if Number>=1:\n",
    "    for i in range (1, Number+1):\n",
    "        factorial=factorial*i\n",
    "    print('Factorial of Number', Number , 'is: ',factorial)"
   ]
  },
  {
   "cell_type": "code",
   "execution_count": 2,
   "id": "5647d8d7",
   "metadata": {},
   "outputs": [
    {
     "name": "stdout",
     "output_type": "stream",
     "text": [
      "Enter a Number: 1\n",
      "Number 1 is a Composite Number\n"
     ]
    }
   ],
   "source": [
    "#Q.12.Ans- To find whether a number is prime or composite.\n",
    "\n",
    "Number=int(input(\"Enter a Number: \"))\n",
    "if Number>1:\n",
    "    for i in range (2,Number):\n",
    "        if (Number%i)==0:\n",
    "            print('Number', Number, 'is not a Prime Number')\n",
    "            break\n",
    "    else:\n",
    "        print('Number', Number, 'is a Prime Number')\n",
    "else:\n",
    "    print('Number', Number, 'is a Composite Number')\n",
    "        "
   ]
  },
  {
   "cell_type": "code",
   "execution_count": 3,
   "id": "bd6b4afd",
   "metadata": {},
   "outputs": [
    {
     "name": "stdout",
     "output_type": "stream",
     "text": [
      "Enter Text: abccba\n",
      "The Text is a palindrome\n"
     ]
    }
   ],
   "source": [
    "#Q.13. To check whether a given string is palindrome or not.\n",
    "\n",
    "Text =str(input(\"Enter Text: \"))\n",
    "if(Text==Text[::-1]):\n",
    "   print(\"The Text is a palindrome\")\n",
    "else:\n",
    "   print(\"The Text is not a palindrome\")"
   ]
  },
  {
   "cell_type": "code",
   "execution_count": 4,
   "id": "3b7742cf",
   "metadata": {},
   "outputs": [],
   "source": [
    "#Q.14.Ans- To get the third side of right-angled triangle from two given sides.\n",
    "\n",
    "def pythagoras(opposite_side,adjacent_side,hypotenuse):\n",
    "        if opposite_side == str(\"x\"):\n",
    "            return (\"Opposite_Side = \" + str(((hypotenuse**2) - (adjacent_side**2))**0.5))\n",
    "        elif adjacent_side == str(\"x\"):\n",
    "            return (\"Adjacent_Side = \" + str(((hypotenuse**2) - (opposite_side**2))**0.5))\n",
    "        elif hypotenuse == str(\"x\"):\n",
    "            return (\"Hypotenuse = \" + str(((opposite_side**2) + (adjacent_side**2))**0.5))"
   ]
  },
  {
   "cell_type": "code",
   "execution_count": 5,
   "id": "e57c5a26",
   "metadata": {},
   "outputs": [
    {
     "name": "stdout",
     "output_type": "stream",
     "text": [
      "Hypotenuse = 8.94427190999916\n"
     ]
    }
   ],
   "source": [
    "print(pythagoras(4,8,'x'))"
   ]
  },
  {
   "cell_type": "code",
   "execution_count": 6,
   "id": "fd01bde7",
   "metadata": {},
   "outputs": [
    {
     "name": "stdout",
     "output_type": "stream",
     "text": [
      "Adjacent_Side = 4.0\n"
     ]
    }
   ],
   "source": [
    "print(pythagoras(3,'x',5))"
   ]
  },
  {
   "cell_type": "code",
   "execution_count": 7,
   "id": "72e8ba5a",
   "metadata": {},
   "outputs": [
    {
     "name": "stdout",
     "output_type": "stream",
     "text": [
      "Opposite_Side = 3.4641016151377544\n"
     ]
    }
   ],
   "source": [
    "print(pythagoras('x',2,4))"
   ]
  },
  {
   "cell_type": "code",
   "execution_count": 8,
   "id": "1791def3",
   "metadata": {},
   "outputs": [
    {
     "name": "stdout",
     "output_type": "stream",
     "text": [
      "The frequency of each of the characters present in a given string is: {'A': 1, 'r': 1, 'c': 1, 'h': 1, 'a': 2, 'n': 1}\n"
     ]
    }
   ],
   "source": [
    "#Q.15.Ans- To print the frequency of each of the characters present in a given string\n",
    "Text=\"Archana\"\n",
    "frequency={}\n",
    "for i in Text:\n",
    "    if i in frequency:\n",
    "        frequency[i]+=1\n",
    "    else:\n",
    "        frequency[i]=1\n",
    "print('The frequency of each of the characters present in a given string is:' , frequency)"
   ]
  }
 ],
 "metadata": {
  "kernelspec": {
   "display_name": "Python 3 (ipykernel)",
   "language": "python",
   "name": "python3"
  },
  "language_info": {
   "codemirror_mode": {
    "name": "ipython",
    "version": 3
   },
   "file_extension": ".py",
   "mimetype": "text/x-python",
   "name": "python",
   "nbconvert_exporter": "python",
   "pygments_lexer": "ipython3",
   "version": "3.9.7"
  }
 },
 "nbformat": 4,
 "nbformat_minor": 5
}
